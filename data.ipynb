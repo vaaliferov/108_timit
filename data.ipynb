{
 "cells": [
  {
   "cell_type": "code",
   "execution_count": null,
   "id": "3113261b-3232-4120-a0a0-f82c17b5dc1a",
   "metadata": {},
   "outputs": [],
   "source": [
    "# sudo apt install fuse-zip opus-tools"
   ]
  },
  {
   "cell_type": "code",
   "execution_count": null,
   "id": "aca964ed-000e-4540-bb6a-e1517b0add61",
   "metadata": {},
   "outputs": [],
   "source": [
    "# pip3 install librosa soundfile numpy pandas tqdm"
   ]
  },
  {
   "cell_type": "code",
   "execution_count": 110,
   "id": "32ad2cb8-5ff1-443c-bb48-f8fd42706bf3",
   "metadata": {},
   "outputs": [],
   "source": [
    "import re\n",
    "import os\n",
    "import pydub\n",
    "import librosa\n",
    "import soundfile\n",
    "import subprocess\n",
    "import numpy as np\n",
    "import pandas as pd\n",
    "from glob import glob\n",
    "from tqdm import tqdm"
   ]
  },
  {
   "cell_type": "code",
   "execution_count": 128,
   "id": "5af5f32f-6ae3-405c-a7b8-7b02e57d8333",
   "metadata": {},
   "outputs": [
    {
     "name": "stdout",
     "output_type": "stream",
     "text": [
      "Error parsing input file: SA1.wav\n"
     ]
    }
   ],
   "source": [
    "!opusenc SA1.wav 9.ogg"
   ]
  },
  {
   "cell_type": "code",
   "execution_count": null,
   "id": "d910ef4a-ca86-47ee-9cd9-e49c059bd034",
   "metadata": {},
   "outputs": [],
   "source": [
    "!wget -O timit.zip https://ndownloader.figshare.com/files/10256148"
   ]
  },
  {
   "cell_type": "code",
   "execution_count": 112,
   "id": "d0daa70f-942a-4749-b12b-1d6effe61a46",
   "metadata": {},
   "outputs": [],
   "source": [
    "!mkdir -p timit && fuse-zip -r timit.zip timit"
   ]
  },
  {
   "cell_type": "code",
   "execution_count": 113,
   "id": "88152a20-e4fe-4c09-b9d7-885a11106ad0",
   "metadata": {},
   "outputs": [],
   "source": [
    "TIMIT_PATH = 'timit/data/lisa/data/timit/raw/TIMIT'"
   ]
  },
  {
   "cell_type": "code",
   "execution_count": 114,
   "id": "afbee411-c444-457d-828e-5b58301cc4f3",
   "metadata": {},
   "outputs": [],
   "source": [
    "path = f'{TIMIT_PATH}/DOC/SPKRINFO.TXT'\n",
    "lines = open(path, 'r').read().splitlines()\n",
    "header = lines[37].replace(' ', '  ')[1:]\n",
    "lines = [header] + lines[39:]\n",
    "pad = lambda s: s if len(s) > 52 else s + '  -'\n",
    "stc = lambda s: re.sub('[ ]{2,}', ',', s)\n",
    "cts = lambda s: s.replace(',', ';')\n",
    "lines = [stc(cts(pad(line))) for line in lines]\n",
    "open('spkrinfo.csv', 'w').write('\\n'.join(lines));"
   ]
  },
  {
   "cell_type": "code",
   "execution_count": 134,
   "id": "8fa754b4-ebfa-4d78-9ee2-48d335e358fd",
   "metadata": {},
   "outputs": [],
   "source": [
    "wav_paths = glob(f'{TIMIT_PATH}/*/*/*/*.WAV')"
   ]
  },
  {
   "cell_type": "code",
   "execution_count": 135,
   "id": "02f34272-c2a4-4fbf-9042-462d01ef8f32",
   "metadata": {},
   "outputs": [
    {
     "name": "stderr",
     "output_type": "stream",
     "text": [
      "100%|███████████████████████████████████████████████████████████████████████████████████| 6300/6300 [00:32<00:00, 192.55it/s]\n"
     ]
    }
   ],
   "source": [
    "# getting rid of stupid text headers in wav files\n",
    "for wav_path in tqdm(wav_paths):\n",
    "    audio, sr = soundfile.read(wav_path)\n",
    "    new_path = wav_path.replace(TIMIT_PATH, 'wav')\n",
    "    os.makedirs('/'.join(new_path.split('/')[:-1]), exist_ok=True)\n",
    "    soundfile.write(new_path, audio, sr)"
   ]
  },
  {
   "cell_type": "code",
   "execution_count": 136,
   "id": "ae598cd6-0703-49c2-8de3-6282b0e3d852",
   "metadata": {},
   "outputs": [],
   "source": [
    "wav_paths = glob(f'wav/*/*/*/*.WAV')"
   ]
  },
  {
   "cell_type": "code",
   "execution_count": 139,
   "id": "23eb42b1-e5e9-48b0-b7bf-4ff7e0e9f498",
   "metadata": {},
   "outputs": [
    {
     "name": "stderr",
     "output_type": "stream",
     "text": [
      "100%|████████████████████████████████████████████████████████████████████████████████████| 6300/6300 [06:41<00:00, 15.68it/s]\n"
     ]
    }
   ],
   "source": [
    "for wav_path in tqdm(wav_paths):\n",
    "    ogg_path = wav_path.replace('wav', 'ogg').replace('WAV','ogg')\n",
    "    os.makedirs('/'.join(ogg_path.split('/')[:-1]), exist_ok=True)\n",
    "    Popen(['opusenc', '--quiet', wav_path, ogg_path]).wait()\n",
    "    # audio, sr = soundfile.read(wav_path)\n",
    "    # soundfile.write(ogg_path, audio, sr)"
   ]
  },
  {
   "cell_type": "code",
   "execution_count": null,
   "id": "93e896be-4236-4113-aef0-6f5b2cdc4b9f",
   "metadata": {},
   "outputs": [],
   "source": [
    "# sudo umount timit && rm timit.zip && rm -rf timit && rm -rf wav"
   ]
  },
  {
   "cell_type": "code",
   "execution_count": 140,
   "id": "88100676-9fd3-4b12-9591-bb45e202e3c1",
   "metadata": {},
   "outputs": [],
   "source": [
    "df = pd.read_csv('spkrinfo.csv')\n",
    "df = df.drop(columns=['Ht','Race','Edu','Comments'])\n",
    "df.columns = ['id','sex','dr','use','rec_date','birth_date']\n",
    "\n",
    "def get_year(date):\n",
    "    s = date.str.split('/').str[-1]\n",
    "    return s.replace('??', 'nan').astype(float)\n",
    "\n",
    "def get_duration(wavfile):\n",
    "    return librosa.get_duration(filename=wavfile)\n",
    "\n",
    "def get_audio_files(path):\n",
    "    return sorted(os.listdir(f'ogg/{path}'))\n",
    "\n",
    "yr = get_year(df['rec_date'])\n",
    "yb = get_year(df['birth_date'])\n",
    "df['age'] = (yr - yb).fillna(50)\n",
    "df['use'] = df['use'].map({'TRN':'TRAIN','TST':'TEST'})\n",
    "df['dr'] = 'DR' + df['dr'].astype(str)\n",
    "df['path'] = df['use'] + '/' + df['dr'] + '/' + df['sex'] + df['id']\n",
    "df['audio'] = df['path'].apply(get_audio_files)\n",
    "df = df.explode('audio')\n",
    "\n",
    "df['audio'] = df['path'] + '/' + df['audio']\n",
    "df['duration'] = ('ogg/' + df['audio']).apply(get_duration)\n",
    "df = df.drop(columns=['dr','use','path'])\n",
    "df.to_csv('spkrinfo.csv', index=False)"
   ]
  },
  {
   "cell_type": "code",
   "execution_count": 141,
   "id": "b69553c2-b324-465e-b289-e67cfa66b1de",
   "metadata": {},
   "outputs": [],
   "source": [
    "!mv ogg timit && mv spkrinfo.csv timit/ && zip -r -q timit.zip timit"
   ]
  },
  {
   "cell_type": "code",
   "execution_count": null,
   "id": "690de5cf-25ed-405e-a8dd-b891f2619f60",
   "metadata": {},
   "outputs": [],
   "source": [
    "!gdown --id 1VTEsfOMCGBbhyhWtQitsRzN9dW5UUyIy"
   ]
  }
 ],
 "metadata": {
  "kernelspec": {
   "display_name": "dev",
   "language": "python",
   "name": "dev"
  },
  "language_info": {
   "codemirror_mode": {
    "name": "ipython",
    "version": 3
   },
   "file_extension": ".py",
   "mimetype": "text/x-python",
   "name": "python",
   "nbconvert_exporter": "python",
   "pygments_lexer": "ipython3",
   "version": "3.9.7"
  }
 },
 "nbformat": 4,
 "nbformat_minor": 5
}
