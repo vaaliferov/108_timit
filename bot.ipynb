{
 "cells": [
  {
   "cell_type": "code",
   "execution_count": 1,
   "id": "71b352ae-3059-46e6-a05e-56a0bed00bde",
   "metadata": {},
   "outputs": [],
   "source": [
    "import random\n",
    "import soundfile\n",
    "import pandas as pd\n",
    "import telegram.ext\n",
    "from config import *"
   ]
  },
  {
   "cell_type": "code",
   "execution_count": 2,
   "id": "7684bb58-405b-4ea4-b25b-f33789923b81",
   "metadata": {},
   "outputs": [],
   "source": [
    "random.seed(42)"
   ]
  },
  {
   "cell_type": "code",
   "execution_count": 2,
   "id": "885301dc-d0a9-4439-8fa9-dcb5b248d57d",
   "metadata": {},
   "outputs": [],
   "source": [
    "df = pd.read_csv('timit/spkrinfo.csv')\n",
    "df['age'] = df['age'].astype(int)\n",
    "df['num'] = df.groupby('age')['age'].transform('count')\n",
    "df['prob'] = 1 / len(df['age'].unique()) / df['num']"
   ]
  },
  {
   "cell_type": "code",
   "execution_count": 3,
   "id": "d44c35ef-cf9c-4b5d-8df8-0ebb955371b4",
   "metadata": {},
   "outputs": [
    {
     "name": "stdout",
     "output_type": "stream",
     "text": [
      "6300 6300 1.0\n",
      "21 21\n"
     ]
    }
   ],
   "source": [
    "print(len(df.index), len(df['prob']), df['prob'].sum())\n",
    "print(len(df['prob'].unique()), len(df['num'].unique()))"
   ]
  },
  {
   "cell_type": "code",
   "execution_count": 622,
   "id": "001cf320-33e5-45fb-ab53-595eb4ca6a4a",
   "metadata": {},
   "outputs": [
    {
     "data": {
      "text/plain": [
       "id                                MPG0\n",
       "sex                                  F\n",
       "rec_date                      04/08/86\n",
       "birth_date                    12/23/32\n",
       "age                                 54\n",
       "audio         TRAIN/DR5/FMPG0/SX72.ogg\n",
       "duration                      2.406438\n",
       "num                                 30\n",
       "prob                          0.000813\n",
       "Name: 3969, dtype: object"
      ]
     },
     "execution_count": 622,
     "metadata": {},
     "output_type": "execute_result"
    }
   ],
   "source": [
    "df.loc[np.random.choice(df.index, 1, p=df['prob'])[0]]"
   ]
  },
  {
   "cell_type": "code",
   "execution_count": 289,
   "id": "cfc20b4b-bca7-47a2-bab0-3d4b66c77144",
   "metadata": {},
   "outputs": [
    {
     "data": {
      "text/plain": [
       "40"
      ]
     },
     "execution_count": 289,
     "metadata": {},
     "output_type": "execute_result"
    }
   ],
   "source": [
    "age = random.choice(df['age'].unique())\n",
    "idx = random.choice(df[df['age'] == age].index)\n",
    "df.loc[idx, 'age']"
   ]
  },
  {
   "cell_type": "code",
   "execution_count": 654,
   "id": "34df2bda-65ac-4a27-bf10-51e0c9b89604",
   "metadata": {},
   "outputs": [
    {
     "data": {
      "image/png": "[encoded data removed]",
      "text/plain": [
       "<Figure size 432x288 with 1 Axes>"
      ]
     },
     "metadata": {
      "needs_background": "light"
     },
     "output_type": "display_data"
    }
   ],
   "source": [
    "df['age'].plot.density();"
   ]
  },
  {
   "cell_type": "code",
   "execution_count": null,
   "id": "ff304ed4-ef9a-4cd0-bf8a-fb982d571ed8",
   "metadata": {},
   "outputs": [],
   "source": [
    "# import IPython\n",
    "# idx = random.randint(0, len(df) - 1)\n",
    "# age, path = df.loc[idx, ['age','audio']]\n",
    "# audio, sr = soundfile.read('timit/' + path)\n",
    "# IPython.display.Audio(audio, rate=sr)"
   ]
  },
  {
   "cell_type": "code",
   "execution_count": 4,
   "id": "4eb6d668-a916-4b28-8725-c1712547c324",
   "metadata": {},
   "outputs": [],
   "source": [
    "user_last_idx = {}"
   ]
  },
  {
   "cell_type": "code",
   "execution_count": 5,
   "id": "2b5a4ad5-bf51-40aa-89cb-5c4f6232d725",
   "metadata": {},
   "outputs": [],
   "source": [
    "def handle_text(update, context):\n",
    "\n",
    "    user = update.message.from_user\n",
    "    \n",
    "    if user['id'] in user_last_idx:\n",
    "        idx = user_last_idx[user['id']]\n",
    "        sex, age = df.loc[idx, ['sex','age']]\n",
    "        context.bot.send_message(chat_id, f'{sex}, {int(age)}')\n",
    "    \n",
    "    idx = random.randint(0, len(df) - 1)\n",
    "    path = 'timit/' + df.loc[idx, 'audio']\n",
    "    \n",
    "    with open(path, 'rb') as fd:\n",
    "        context.bot.send_audio(user['id'], fd)\n",
    "        \n",
    "    if user['id'] != TG_BOT_OWNER_ID:\n",
    "        msg = f\"@{user['username']} {user['id']}\"\n",
    "        context.bot.send_message(TG_BOT_OWNER_ID, msg)\n",
    "    \n",
    "    user_last_idx[user['id']] = idx"
   ]
  },
  {
   "cell_type": "code",
   "execution_count": null,
   "id": "2aa49b09-e5fc-4145-b684-ffcb86f48a1b",
   "metadata": {},
   "outputs": [],
   "source": [
    "h = telegram.ext.MessageHandler\n",
    "vt = telegram.ext.Filters.text \n",
    "u = telegram.ext.Updater(TG_BOT_TOKEN)\n",
    "u.dispatcher.add_handler(h(vt, handle_text))\n",
    "u.start_polling(); u.idle()"
   ]
  }
 ],
 "metadata": {
  "kernelspec": {
   "display_name": "dev",
   "language": "python",
   "name": "dev"
  },
  "language_info": {
   "codemirror_mode": {
    "name": "ipython",
    "version": 3
   },
   "file_extension": ".py",
   "mimetype": "text/x-python",
   "name": "python",
   "nbconvert_exporter": "python",
   "pygments_lexer": "ipython3",
   "version": "3.9.7"
  }
 },
 "nbformat": 4,
 "nbformat_minor": 5
}
