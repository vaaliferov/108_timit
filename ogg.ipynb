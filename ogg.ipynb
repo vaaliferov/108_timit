{
 "cells": [
  {
   "cell_type": "code",
   "execution_count": null,
   "id": "e83441f2-232f-4614-8624-97aff04c648c",
   "metadata": {},
   "outputs": [],
   "source": [
    "!sudo apt install libopus-dev\n",
    "!sudo apt install libogg-dev\n",
    "!sudo apt install libvorbis-dev\n",
    "!sudo apt install libopusfile-dev\n",
    "!sudo apt install opus-tools\n",
    "!sudo ldconfig"
   ]
  },
  {
   "cell_type": "code",
   "execution_count": null,
   "id": "0ede58b1-ee75-44fc-b45e-b9c5004552d7",
   "metadata": {},
   "outputs": [],
   "source": [
    "!pip3 install pyogg\n",
    "!pip3 install audioread\n",
    "!pip3 install pysoundfile"
   ]
  },
  {
   "cell_type": "code",
   "execution_count": null,
   "id": "b8926ba0-71f6-4c42-a435-588865c612d0",
   "metadata": {},
   "outputs": [],
   "source": [
    "import pydub\n",
    "import numpy as np\n",
    "import soundfile\n",
    "import librosa\n",
    "import audioread"
   ]
  },
  {
   "cell_type": "code",
   "execution_count": null,
   "id": "b38ecb39-b1b0-4271-b271-31dbd804dfc8",
   "metadata": {},
   "outputs": [],
   "source": [
    "audio, sr = soundfile.read('2.wav')"
   ]
  },
  {
   "cell_type": "code",
   "execution_count": null,
   "id": "ae34fbec-b66d-4a5f-8676-0a74dff5d07c",
   "metadata": {},
   "outputs": [],
   "source": [
    "soundfile.write('timit_ogg/TRAIN/DR7/MTER0/SX17.ogg', audio, sr)"
   ]
  },
  {
   "cell_type": "code",
   "execution_count": null,
   "id": "8400d05f-76a7-4ff7-aaee-5d38019a9e0b",
   "metadata": {},
   "outputs": [],
   "source": [
    "data = pydub.AudioSegment.from_ogg('2.ogg')\n",
    "audio = np.array(data.get_array_of_samples())"
   ]
  },
  {
   "cell_type": "code",
   "execution_count": null,
   "id": "3afc7123-222a-4d10-aec2-e595bfaccefe",
   "metadata": {},
   "outputs": [],
   "source": [
    "opus_file = pyogg.OpusFile('2.ogg')\n",
    "opus_file.channels, opus_file.frequency #, len(opus_file.buffer), len(opus_file.as_array())"
   ]
  },
  {
   "cell_type": "code",
   "execution_count": null,
   "id": "2f336278-4daa-411c-8ca6-b70bc8156662",
   "metadata": {},
   "outputs": [],
   "source": [
    "opus_file.buffer_length, opus_file.buffer"
   ]
  },
  {
   "cell_type": "code",
   "execution_count": null,
   "id": "03062b84-cbe5-4b91-97b7-d2a4170cbecc",
   "metadata": {},
   "outputs": [],
   "source": [
    "f = audioread.audio_open('2.ogg')\n",
    "f.samplerate, f.channels, f.duration"
   ]
  },
  {
   "cell_type": "code",
   "execution_count": null,
   "id": "0c325dec-9187-433f-a9d9-f87352df4e69",
   "metadata": {},
   "outputs": [],
   "source": [
    "#for data in f.read_data():\n",
    "    #print(len(data))"
   ]
  },
  {
   "cell_type": "code",
   "execution_count": null,
   "id": "7b571579-d993-447c-94ab-30f4a103238d",
   "metadata": {},
   "outputs": [],
   "source": [
    "librosa.load('2.ogg')"
   ]
  },
  {
   "cell_type": "code",
   "execution_count": null,
   "id": "a6636aa7-3c58-4750-b7cf-af1a6c55f45a",
   "metadata": {},
   "outputs": [],
   "source": [
    "audio, sr = soundfile.read('2.ogg')"
   ]
  },
  {
   "cell_type": "code",
   "execution_count": null,
   "id": "141e64d4-5853-4185-ad9d-ecbeef9d222a",
   "metadata": {},
   "outputs": [],
   "source": [
    "audio, sr = soundfile.read('1.ogg')\n",
    "audio16 = np.int16(audio * 2 ** 15)\n",
    "pydub_audio = pydub.AudioSegment(audio16.tobytes(), frame_rate=sr, sample_width=2, channels=1)\n",
    "pydub_audio.export('3.mp3', format='mp3', bitrate='32k');"
   ]
  },
  {
   "cell_type": "code",
   "execution_count": null,
   "id": "f2fa334a-2860-4a24-a597-391916267c79",
   "metadata": {},
   "outputs": [],
   "source": [
    "# librosa.write('3.mp3', audio, 16000)"
   ]
  },
  {
   "cell_type": "code",
   "execution_count": null,
   "id": "222cc0fc-dc30-408f-8a59-b98d4068255e",
   "metadata": {},
   "outputs": [],
   "source": [
    "# audio2 = librosa.resample(audio, 16000, 48000)"
   ]
  },
  {
   "cell_type": "code",
   "execution_count": null,
   "id": "b17f2277-0f56-44b9-83ce-9a1156fe4420",
   "metadata": {},
   "outputs": [],
   "source": [
    "# soundfile.write('2.ogg', audio, 16000, format='ogg', subtype='Vorbis')"
   ]
  },
  {
   "cell_type": "code",
   "execution_count": null,
   "id": "d1c4e415-ca80-4f3c-9d57-3ecb13d9297c",
   "metadata": {},
   "outputs": [],
   "source": [
    "# soundfile.available_subtypes(format='ogg')"
   ]
  },
  {
   "cell_type": "code",
   "execution_count": null,
   "id": "115db35c-e446-4848-8894-ae6f270992bd",
   "metadata": {},
   "outputs": [],
   "source": [
    "# with soundfile.SoundFile('3.wav', 'w', 44100, 1, 'PCM_24') as f: f.write(audio)"
   ]
  },
  {
   "cell_type": "code",
   "execution_count": null,
   "id": "1e9104e9-df63-4811-8c04-5eb91bc75664",
   "metadata": {},
   "outputs": [],
   "source": [
    "# with soundfile.SoundFile('3.ogg', 'w', 48000, 1, 'Vorbis') as f: f.write(audio2)"
   ]
  },
  {
   "cell_type": "code",
   "execution_count": null,
   "id": "3c8d74b0-830f-4291-b683-fdcac6b77dcd",
   "metadata": {},
   "outputs": [],
   "source": [
    "soundfile.available_subtypes(format='ogg')"
   ]
  },
  {
   "cell_type": "code",
   "execution_count": null,
   "id": "4dcabe44-bcc6-49e5-8867-91e778afafe1",
   "metadata": {},
   "outputs": [],
   "source": [
    "# !ffmpeg -i 1.ogg -acodec libopus 5.ogg -y"
   ]
  }
 ],
 "metadata": {
  "kernelspec": {
   "display_name": "dev",
   "language": "python",
   "name": "dev"
  },
  "language_info": {
   "codemirror_mode": {
    "name": "ipython",
    "version": 3
   },
   "file_extension": ".py",
   "mimetype": "text/x-python",
   "name": "python",
   "nbconvert_exporter": "python",
   "pygments_lexer": "ipython3",
   "version": "3.9.7"
  }
 },
 "nbformat": 4,
 "nbformat_minor": 5
}
